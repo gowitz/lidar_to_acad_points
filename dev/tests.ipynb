{
 "cells": [
  {
   "cell_type": "markdown",
   "id": "0f5d2f8b",
   "metadata": {},
   "source": [
    "# Bac à sable"
   ]
  },
  {
   "cell_type": "markdown",
   "id": "1829304e",
   "metadata": {},
   "source": [
    "## Check header CSV source"
   ]
  },
  {
   "cell_type": "code",
   "execution_count": 33,
   "id": "799b9880",
   "metadata": {},
   "outputs": [],
   "source": [
    "import os.path\n",
    "import pandas as pd"
   ]
  },
  {
   "cell_type": "markdown",
   "id": "d5eebf20",
   "metadata": {},
   "source": [
    "### Paramètres "
   ]
  },
  {
   "cell_type": "code",
   "execution_count": 73,
   "id": "06ce2a85",
   "metadata": {},
   "outputs": [],
   "source": [
    "UPLOAD_FOLDER = 'uploads'\n",
    "DOWNLOAD_FOLDER = 'downloads'\n",
    "EXPORT_FILENAME = 'points.scr'\n",
    "ALLOWED_EXTENSIONS = {'csv'}\n",
    "SOURCE_FILE = '../static/data_sample/profile.csv'\n",
    "CSV_COLUMS_PROFILE = ['distance', 'bathymetry', 'mns', 'mnt', 'x', 'y']\n",
    "CSV_COLUMS_LIDAR = ['distance', 'altitude', 'color_packed', 'intensity', 'classification', 'coords']"
   ]
  },
  {
   "cell_type": "markdown",
   "id": "306417a2",
   "metadata": {},
   "source": [
    "### Fonctions de contrôle"
   ]
  },
  {
   "cell_type": "code",
   "execution_count": 69,
   "id": "85dee4e3",
   "metadata": {},
   "outputs": [],
   "source": [
    "def allowed_file(filename):\n",
    "    return '.' in filename and \\\n",
    "           filename.rsplit('.', 1)[1].lower() in ALLOWED_EXTENSIONS\n",
    "\n",
    "def csv_header_check(df):\n",
    "    source_colums = get_csv_header(df)\n",
    "    if source_colums == CSV_COLUMS_PROFILE or source_colums == CSV_COLUMS_LIDAR:\n",
    "        return True\n",
    "    else:\n",
    "        return False\n",
    "\n",
    "def get_csv_header(df):\n",
    "    return df.columns\n",
    "\n",
    "def get_csv_type_profile(df):\n",
    "    if csv_header_check(df) :\n",
    "        source_colums = get_csv_header(df)\n",
    "        if source_colums == CSV_COLUMS_PROFILE:\n",
    "            return 'profile'\n",
    "        else:\n",
    "            return 'lidar'\n",
    "    else:\n",
    "        return\n"
   ]
  },
  {
   "cell_type": "markdown",
   "id": "5cd96af8",
   "metadata": {},
   "source": [
    "### Tests des fonctions"
   ]
  },
  {
   "cell_type": "markdown",
   "id": "e396120d",
   "metadata": {},
   "source": [
    "#### Nom du fichier"
   ]
  },
  {
   "cell_type": "code",
   "execution_count": 64,
   "id": "e2a29554",
   "metadata": {},
   "outputs": [
    {
     "name": "stdout",
     "output_type": "stream",
     "text": [
      "LIDAR_profile.csv\n"
     ]
    }
   ],
   "source": [
    "print(SOURCE_FILE.split('/')[-1])"
   ]
  },
  {
   "cell_type": "markdown",
   "id": "cde88a9c",
   "metadata": {},
   "source": [
    "#### Contrôle de l'extension CSV"
   ]
  },
  {
   "cell_type": "code",
   "execution_count": 74,
   "id": "e2dfe849",
   "metadata": {},
   "outputs": [
    {
     "name": "stdout",
     "output_type": "stream",
     "text": [
      "File type pass\n"
     ]
    }
   ],
   "source": [
    "file = SOURCE_FILE\n",
    "file_name = file.split('/')[-1]\n",
    "if allowed_file(file_name):\n",
    "    print(\"File type pass\")"
   ]
  },
  {
   "cell_type": "markdown",
   "id": "f9b00a41",
   "metadata": {},
   "source": [
    "#### Chargement du fichier CSV dans le dataframe"
   ]
  },
  {
   "cell_type": "code",
   "execution_count": 66,
   "id": "733660bc",
   "metadata": {},
   "outputs": [],
   "source": [
    "df = pd.read_csv(file)"
   ]
  },
  {
   "cell_type": "markdown",
   "id": "e80ddeb4",
   "metadata": {},
   "source": [
    "#### Récupère les noms de colonnes dans une liste"
   ]
  },
  {
   "cell_type": "code",
   "execution_count": 67,
   "id": "be3da9e8",
   "metadata": {},
   "outputs": [
    {
     "name": "stdout",
     "output_type": "stream",
     "text": [
      "['distance', 'altitude', 'color_packed', 'intensity', 'classification', 'coords']\n"
     ]
    }
   ],
   "source": [
    "print(df.columns.to_list())"
   ]
  },
  {
   "cell_type": "markdown",
   "id": "b310573c",
   "metadata": {},
   "source": [
    "#### Affiche les valeurs attendues pour profil et lidar"
   ]
  },
  {
   "cell_type": "code",
   "execution_count": 75,
   "id": "79269e32",
   "metadata": {},
   "outputs": [
    {
     "name": "stdout",
     "output_type": "stream",
     "text": [
      "['distance', 'bathymetry', 'mns', 'mnt', 'x', 'y']\n",
      "['distance', 'altitude', 'color_packed', 'intensity', 'classification', 'coords']\n"
     ]
    }
   ],
   "source": [
    "print(CSV_COLUMS_PROFILE)\n",
    "print(CSV_COLUMS_LIDAR)"
   ]
  },
  {
   "cell_type": "markdown",
   "id": "e7a5ca8f",
   "metadata": {},
   "source": [
    "#### Affiche si les colonnes du fichier sont celles attendues pour profile et lidar"
   ]
  },
  {
   "cell_type": "code",
   "execution_count": 77,
   "id": "2ca3bf05",
   "metadata": {},
   "outputs": [
    {
     "name": "stdout",
     "output_type": "stream",
     "text": [
      "False\n",
      "True\n"
     ]
    }
   ],
   "source": [
    "print(csv_header_check_profile(df))\n",
    "print(csv_header_check_lidar(df))"
   ]
  },
  {
   "cell_type": "markdown",
   "id": "edc123cb",
   "metadata": {},
   "source": [
    "#### Affiche le type de profil du fichier "
   ]
  },
  {
   "cell_type": "code",
   "execution_count": 72,
   "id": "d49febca",
   "metadata": {},
   "outputs": [
    {
     "ename": "ValueError",
     "evalue": "The truth value of an array with more than one element is ambiguous. Use a.any() or a.all()",
     "output_type": "error",
     "traceback": [
      "\u001b[0;31m---------------------------------------------------------------------------\u001b[0m",
      "\u001b[0;31mValueError\u001b[0m                                Traceback (most recent call last)",
      "Cell \u001b[0;32mIn[72], line 1\u001b[0m\n\u001b[0;32m----> 1\u001b[0m \u001b[38;5;28mprint\u001b[39m(\u001b[43mget_csv_type_profile\u001b[49m\u001b[43m(\u001b[49m\u001b[43mdf\u001b[49m\u001b[43m)\u001b[49m)\n",
      "Cell \u001b[0;32mIn[69], line 16\u001b[0m, in \u001b[0;36mget_csv_type_profile\u001b[0;34m(df)\u001b[0m\n\u001b[1;32m     15\u001b[0m \u001b[38;5;28;01mdef\u001b[39;00m\u001b[38;5;250m \u001b[39m\u001b[38;5;21mget_csv_type_profile\u001b[39m(df):\n\u001b[0;32m---> 16\u001b[0m     \u001b[38;5;28;01mif\u001b[39;00m \u001b[43mcsv_header_check\u001b[49m\u001b[43m(\u001b[49m\u001b[43mdf\u001b[49m\u001b[43m)\u001b[49m :\n\u001b[1;32m     17\u001b[0m         source_colums \u001b[38;5;241m=\u001b[39m get_csv_header(df)\n\u001b[1;32m     18\u001b[0m         \u001b[38;5;28;01mif\u001b[39;00m source_colums \u001b[38;5;241m==\u001b[39m CSV_COLUMS_PROFILE:\n",
      "Cell \u001b[0;32mIn[69], line 7\u001b[0m, in \u001b[0;36mcsv_header_check\u001b[0;34m(df)\u001b[0m\n\u001b[1;32m      5\u001b[0m \u001b[38;5;28;01mdef\u001b[39;00m\u001b[38;5;250m \u001b[39m\u001b[38;5;21mcsv_header_check\u001b[39m(df):\n\u001b[1;32m      6\u001b[0m     source_colums \u001b[38;5;241m=\u001b[39m get_csv_header(df)\n\u001b[0;32m----> 7\u001b[0m     \u001b[38;5;28;01mif\u001b[39;00m source_colums \u001b[38;5;241m==\u001b[39m CSV_COLUMS_PROFILE \u001b[38;5;129;01mor\u001b[39;00m source_colums \u001b[38;5;241m==\u001b[39m CSV_COLUMS_LIDAR:\n\u001b[1;32m      8\u001b[0m         \u001b[38;5;28;01mreturn\u001b[39;00m \u001b[38;5;28;01mTrue\u001b[39;00m\n\u001b[1;32m      9\u001b[0m     \u001b[38;5;28;01melse\u001b[39;00m:\n",
      "\u001b[0;31mValueError\u001b[0m: The truth value of an array with more than one element is ambiguous. Use a.any() or a.all()"
     ]
    }
   ],
   "source": [
    "print(get_csv_type_profile(df))"
   ]
  }
 ],
 "metadata": {
  "kernelspec": {
   "display_name": "flask",
   "language": "python",
   "name": "python3"
  },
  "language_info": {
   "codemirror_mode": {
    "name": "ipython",
    "version": 3
   },
   "file_extension": ".py",
   "mimetype": "text/x-python",
   "name": "python",
   "nbconvert_exporter": "python",
   "pygments_lexer": "ipython3",
   "version": "3.9.6"
  }
 },
 "nbformat": 4,
 "nbformat_minor": 5
}
