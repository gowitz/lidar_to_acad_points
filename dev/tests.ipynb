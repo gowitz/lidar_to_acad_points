{
 "cells": [
  {
   "cell_type": "markdown",
   "id": "0f5d2f8b",
   "metadata": {},
   "source": [
    "# Bac à sable"
   ]
  },
  {
   "cell_type": "markdown",
   "id": "1829304e",
   "metadata": {},
   "source": [
    "## Check header CSV source"
   ]
  },
  {
   "cell_type": "code",
   "execution_count": 77,
   "id": "799b9880",
   "metadata": {},
   "outputs": [],
   "source": [
    "import os.path\n",
    "import pandas as pd\n",
    "import numpy"
   ]
  },
  {
   "cell_type": "markdown",
   "id": "d5eebf20",
   "metadata": {},
   "source": [
    "### Paramètres "
   ]
  },
  {
   "cell_type": "code",
   "execution_count": 89,
   "id": "06ce2a85",
   "metadata": {},
   "outputs": [],
   "source": [
    "UPLOAD_FOLDER = 'uploads'\n",
    "DOWNLOAD_FOLDER = 'downloads'\n",
    "EXPORT_FILENAME = 'points.scr'\n",
    "ALLOWED_EXTENSIONS = {'profil': 'csv','lidar': 'csv','dxf2kml': 'dxf', 'vc_lidar':'csv'}\n",
    "SOURCE_FILE = '../static/data_sample/LIDAR_profile.csv'\n",
    "CSV_COLUMS = {'lidar':'distance,altitude,color_packed,intensity,classification,coords',\n",
    "              'profil':'distance,bathymetry,mns,mnt,x,y',\n",
    "              'vc_lidar':'distance,altitude,color_packed,intensity,classification,coords'}\n",
    "LIDAR_CLASSIFICATION_IGNORE = [4,5,6]"
   ]
  },
  {
   "cell_type": "code",
   "execution_count": 3,
   "id": "e577f7b0",
   "metadata": {},
   "outputs": [
    {
     "name": "stdout",
     "output_type": "stream",
     "text": [
      "<class 'str'>\n"
     ]
    }
   ],
   "source": [
    "print(type(CSV_COLUMS['profil']))"
   ]
  },
  {
   "cell_type": "markdown",
   "id": "306417a2",
   "metadata": {},
   "source": [
    "### Fonctions de contrôle"
   ]
  },
  {
   "cell_type": "code",
   "execution_count": 46,
   "id": "85dee4e3",
   "metadata": {},
   "outputs": [],
   "source": [
    "def allowed_file(filename:str, conversion: str) -> bool:\n",
    "    extension = get_file_extension(filename)\n",
    "    return True if extension == ALLOWED_EXTENSIONS[conversion] else False\n",
    "\n",
    "def get_file_name(filepath: str) -> str:\n",
    "    return filepath.split('/')[-1]\n",
    "\n",
    "def get_file_extension(filename: str) -> str:\n",
    "    return filename.rsplit('.', 1)[1].lower()\n",
    "\n",
    "def get_first_line(file: str) -> list:\n",
    "    with open(file, encoding='utf-8-sig') as f:\n",
    "        first_line = f.readline().strip('\\n')\n",
    "    first_line = first_line.replace('\"', '')\n",
    "    return first_line.split(\",\")\n",
    "\n",
    "# -------------------\n",
    "\n",
    "def check_valid_header_csv(file: str, conversion: str) -> bool:\n",
    "    src_header =get_first_line(file)\n",
    "    request_header = CSV_COLUMS[conversion].split(\",\")\n",
    "    return True if src_header == request_header else False\n",
    "\n",
    "\n",
    "def check_file_extension(file: str, extension: str) -> bool:\n",
    "    return True if file.rsplit('.', 1)[1].lower() == extension else False\n",
    "\n",
    "def check_valid_csv_header(file: str, convertion: str) -> bool:\n",
    "    with open(file, encoding='utf-8-sig') as f:\n",
    "        first_line = f.readline().strip('\\n')\n",
    "\n",
    "    a = first_line.replace('\"', '').split(\",\")\n",
    "    b = tuple(CSV_COLUMS[convertion])\n",
    "    return True if a == b else False\n",
    "\n",
    "\n",
    "\n",
    "\n",
    "\n",
    "def csv_header_check(df):\n",
    "    source_colums = get_csv_header(df)\n",
    "    if source_colums == CSV_COLUMS['profil'] or source_colums == CSV_COLUMS['lidar']:\n",
    "        return True\n",
    "    else:\n",
    "        return False\n",
    "\n",
    "def get_csv_header(df):\n",
    "    return df.columns\n",
    "\n",
    "def get_csv_type_profile(df):\n",
    "    if csv_header_check(df) :\n",
    "        source_colums = get_csv_header(df)\n",
    "        if source_colums == CSV_COLUMS['profil']:\n",
    "            return 'profile'\n",
    "        else:\n",
    "            return 'lidar'\n",
    "    else:\n",
    "        return\n"
   ]
  },
  {
   "cell_type": "markdown",
   "id": "5cd96af8",
   "metadata": {},
   "source": [
    "### Tests des fonctions"
   ]
  },
  {
   "cell_type": "markdown",
   "id": "e396120d",
   "metadata": {},
   "source": [
    "#### Nom du fichier et extention"
   ]
  },
  {
   "cell_type": "code",
   "execution_count": 60,
   "id": "e2a29554",
   "metadata": {},
   "outputs": [
    {
     "name": "stdout",
     "output_type": "stream",
     "text": [
      "LIDAR_profile.csv\n",
      "csv\n",
      "LIDAR_profile.csv\n",
      "csv\n"
     ]
    }
   ],
   "source": [
    "file = SOURCE_FILE\n",
    "\n",
    "print(get_file_name(SOURCE_FILE))\n",
    "print(get_file_extension(SOURCE_FILE))\n",
    "filename = get_file_name(SOURCE_FILE)\n",
    "print(filename)\n",
    "print(get_file_extension(filename))"
   ]
  },
  {
   "cell_type": "markdown",
   "id": "c6822cd6",
   "metadata": {},
   "source": [
    "### Retourne l'extension attendu pour chaque type de conversion"
   ]
  },
  {
   "cell_type": "code",
   "execution_count": 12,
   "id": "270981a5",
   "metadata": {},
   "outputs": [
    {
     "name": "stdout",
     "output_type": "stream",
     "text": [
      "csv\n",
      "txt\n",
      "dxf\n",
      "csv\n"
     ]
    }
   ],
   "source": [
    "print(ALLOWED_EXTENSIONS['profil'])\n",
    "print(ALLOWED_EXTENSIONS['lidar'])\n",
    "print(ALLOWED_EXTENSIONS['dxf2kml'])\n",
    "print(ALLOWED_EXTENSIONS['vc_lidar'])"
   ]
  },
  {
   "cell_type": "markdown",
   "id": "342fc61e",
   "metadata": {},
   "source": [
    "### Contrôle si l'extenmsion est celle attendue pour la conversion"
   ]
  },
  {
   "cell_type": "code",
   "execution_count": 61,
   "id": "eaf57773",
   "metadata": {},
   "outputs": [
    {
     "name": "stdout",
     "output_type": "stream",
     "text": [
      "True\n"
     ]
    }
   ],
   "source": [
    "print(allowed_file(filename, 'lidar'))"
   ]
  },
  {
   "cell_type": "markdown",
   "id": "bc71b019",
   "metadata": {},
   "source": [
    "### Contrôle de l'extension selon la conversion"
   ]
  },
  {
   "cell_type": "code",
   "execution_count": 62,
   "id": "5f75b82f",
   "metadata": {},
   "outputs": [
    {
     "name": "stdout",
     "output_type": "stream",
     "text": [
      "File type OK\n"
     ]
    }
   ],
   "source": [
    "if allowed_file(filename, 'profil'):\n",
    "    print(\"File type OK\")\n",
    "else:\n",
    "    print(\"File type error\")"
   ]
  },
  {
   "cell_type": "markdown",
   "id": "d4c14239",
   "metadata": {},
   "source": [
    "### Lire la première line du fichier"
   ]
  },
  {
   "cell_type": "code",
   "execution_count": 63,
   "id": "f545187e",
   "metadata": {},
   "outputs": [
    {
     "name": "stdout",
     "output_type": "stream",
     "text": [
      "['distance', 'altitude', 'color_packed', 'intensity', 'classification', 'coords']\n",
      "<class 'list'>\n"
     ]
    }
   ],
   "source": [
    "print(get_first_line(SOURCE_FILE))\n",
    "print(type(get_first_line(SOURCE_FILE)))"
   ]
  },
  {
   "cell_type": "markdown",
   "id": "681facdf",
   "metadata": {},
   "source": [
    "### Contrôle si l'en-tête est celle attendue"
   ]
  },
  {
   "cell_type": "code",
   "execution_count": 64,
   "id": "874bbbdb",
   "metadata": {},
   "outputs": [
    {
     "data": {
      "text/plain": [
       "True"
      ]
     },
     "execution_count": 64,
     "metadata": {},
     "output_type": "execute_result"
    }
   ],
   "source": [
    "check_valid_header_csv(file, 'lidar')\n",
    "# print(check_valid_csv_header(file,CSV_COLUMS['profil']))"
   ]
  },
  {
   "cell_type": "markdown",
   "id": "f9b00a41",
   "metadata": {},
   "source": [
    "#### Chargement du fichier CSV dans le dataframe"
   ]
  },
  {
   "cell_type": "code",
   "execution_count": 65,
   "id": "733660bc",
   "metadata": {},
   "outputs": [],
   "source": [
    "df = pd.read_csv(file)"
   ]
  },
  {
   "cell_type": "markdown",
   "id": "e80ddeb4",
   "metadata": {},
   "source": [
    "#### Récupère les noms de colonnes dans une liste"
   ]
  },
  {
   "cell_type": "code",
   "execution_count": 66,
   "id": "be3da9e8",
   "metadata": {},
   "outputs": [
    {
     "name": "stdout",
     "output_type": "stream",
     "text": [
      "['distance', 'altitude', 'color_packed', 'intensity', 'classification', 'coords']\n"
     ]
    }
   ],
   "source": [
    "print(df.columns.to_list())"
   ]
  },
  {
   "cell_type": "markdown",
   "id": "b310573c",
   "metadata": {},
   "source": [
    "#### Affiche les valeurs attendues pour profil et lidar"
   ]
  },
  {
   "cell_type": "code",
   "execution_count": 56,
   "id": "79269e32",
   "metadata": {},
   "outputs": [
    {
     "name": "stdout",
     "output_type": "stream",
     "text": [
      "['distance', 'altitude', 'color_packed', 'intensity', 'classification', 'coords']\n",
      "<class 'list'>\n",
      "['distance', 'bathymetry', 'mns', 'mnt', 'x', 'y']\n",
      "['distance', 'altitude', 'color_packed', 'intensity', 'classification', 'coords']\n"
     ]
    }
   ],
   "source": [
    "print(CSV_COLUMS['lidar'].split(\",\"))\n",
    "print(type(CSV_COLUMS['lidar'].split(\",\")))\n",
    "print(CSV_COLUMS['profil'].split(\",\"))\n",
    "print(CSV_COLUMS['vc_lidar'].split(\",\"))"
   ]
  },
  {
   "cell_type": "markdown",
   "id": "337d1ba1",
   "metadata": {},
   "source": [
    "### Nom fichier de sortie"
   ]
  },
  {
   "cell_type": "code",
   "execution_count": 67,
   "id": "d1f81967",
   "metadata": {},
   "outputs": [
    {
     "name": "stdout",
     "output_type": "stream",
     "text": [
      "LIDAR_profile.scr\n"
     ]
    }
   ],
   "source": [
    "print(filename.split(\".\")[0] + \".scr\")"
   ]
  },
  {
   "cell_type": "markdown",
   "id": "d41fac5b",
   "metadata": {},
   "source": [
    "### Créer un dataframe avec les colonnes nécessaires"
   ]
  },
  {
   "cell_type": "code",
   "execution_count": 101,
   "id": "9a674acb",
   "metadata": {},
   "outputs": [
    {
     "name": "stdout",
     "output_type": "stream",
     "text": [
      "      distance  altitude  classification\n",
      "0         0.25   458.153              31\n",
      "1         0.25   458.154              31\n",
      "2         0.26   458.041               2\n",
      "3         0.43   458.123               2\n",
      "4         1.92   458.078               2\n",
      "...        ...       ...             ...\n",
      "2257    418.04   430.447               4\n",
      "2258    418.16   431.824               4\n",
      "2259    418.42   432.178               4\n",
      "2260    418.96   429.937               4\n",
      "2261    420.14   429.300              41\n",
      "\n",
      "[2262 rows x 3 columns]\n"
     ]
    }
   ],
   "source": [
    "df = df[['distance', 'altitude', 'classification']]\n",
    "print(df)\n"
   ]
  },
  {
   "cell_type": "markdown",
   "id": "991206e4",
   "metadata": {},
   "source": [
    "### Créer des groupes par classification"
   ]
  },
  {
   "cell_type": "code",
   "execution_count": 102,
   "id": "975409ed",
   "metadata": {},
   "outputs": [
    {
     "name": "stdout",
     "output_type": "stream",
     "text": [
      "<class 'numpy.int64'>\n",
      "(2,       distance  altitude  classification\n",
      "2         0.26   458.041               2\n",
      "3         0.43   458.123               2\n",
      "4         1.92   458.078               2\n",
      "5         1.92   458.079               2\n",
      "6         2.37   458.157               2\n",
      "...        ...       ...             ...\n",
      "2146    385.54   429.130               2\n",
      "2151    386.28   429.369               2\n",
      "2152    386.28   429.369               2\n",
      "2213    406.62   429.121               2\n",
      "2214    406.62   429.121               2\n",
      "\n",
      "[379 rows x 3 columns])\n",
      "(3,       distance  altitude  classification\n",
      "274      84.46   460.507               3\n",
      "356      90.85   460.308               3\n",
      "369      92.90   460.171               3\n",
      "370      92.90   460.171               3\n",
      "581     123.73   459.457               3\n",
      "...        ...       ...             ...\n",
      "2242    413.73   429.409               3\n",
      "2245    414.18   429.669               3\n",
      "2246    414.84   429.610               3\n",
      "2247    415.45   429.283               3\n",
      "2248    415.45   429.283               3\n",
      "\n",
      "[98 rows x 3 columns])\n",
      "(4,       distance  altitude  classification\n",
      "225      79.66   461.639               4\n",
      "228      79.95   461.779               4\n",
      "238      81.69   461.926               4\n",
      "239      81.77   461.577               4\n",
      "244      82.14   461.844               4\n",
      "...        ...       ...             ...\n",
      "2256    418.04   430.446               4\n",
      "2257    418.04   430.447               4\n",
      "2258    418.16   431.824               4\n",
      "2259    418.42   432.178               4\n",
      "2260    418.96   429.937               4\n",
      "\n",
      "[495 rows x 3 columns])\n",
      "(5,       distance  altitude  classification\n",
      "218      78.66   467.382               5\n",
      "219      78.76   468.187               5\n",
      "220      78.76   468.187               5\n",
      "221      79.03   465.588               5\n",
      "222      79.03   465.589               5\n",
      "...        ...       ...             ...\n",
      "2119    382.04   432.718               5\n",
      "2120    382.04   432.719               5\n",
      "2121    382.13   432.762               5\n",
      "2126    382.88   432.730               5\n",
      "2133    383.53   432.387               5\n",
      "\n",
      "[473 rows x 3 columns])\n",
      "(6,       distance  altitude  classification\n",
      "408     101.17   463.087               6\n",
      "410     101.61   463.552               6\n",
      "411     101.61   463.553               6\n",
      "412     101.79   462.591               6\n",
      "413     101.79   462.591               6\n",
      "...        ...       ...             ...\n",
      "1599    288.03   434.327               6\n",
      "1604    289.04   434.132               6\n",
      "1605    289.07   434.132               6\n",
      "1610    290.57   434.363               6\n",
      "1611    290.64   434.474               6\n",
      "\n",
      "[181 rows x 3 columns])\n",
      "(9,       distance  altitude  classification\n",
      "2160    389.47   429.131               9\n",
      "2161    389.47   429.132               9\n",
      "2184    398.91   429.139               9\n",
      "2224    407.90   429.168               9\n",
      "2243    413.85   429.113               9\n",
      "2255    416.92   429.173               9)\n",
      "(18,       distance  altitude  classification\n",
      "16        5.37   458.209              18\n",
      "17        5.91   458.123              18\n",
      "23        8.50   458.133              18\n",
      "32       11.50   458.262              18\n",
      "35       12.01   458.194              18\n",
      "...        ...       ...             ...\n",
      "2189    400.51   429.308              18\n",
      "2234    412.18   429.196              18\n",
      "2235    412.18   429.197              18\n",
      "2251    415.55   429.167              18\n",
      "2252    415.55   429.168              18\n",
      "\n",
      "[186 rows x 3 columns])\n",
      "(21,      distance  altitude  classification\n",
      "468    112.29   460.062              21\n",
      "473    113.03   460.774              21\n",
      "477    113.37   460.839              21\n",
      "491    114.08   460.324              21)\n",
      "(22,       distance  altitude  classification\n",
      "409     101.35   460.524              22\n",
      "416     102.14   460.320              22\n",
      "442     107.08   460.334              22\n",
      "550     118.04   461.034              22\n",
      "556     118.36   460.782              22\n",
      "557     118.36   460.782              22\n",
      "560     118.73   460.325              22\n",
      "582     123.88   462.115              22\n",
      "586     124.89   462.240              22\n",
      "587     124.89   462.240              22\n",
      "609     128.18   460.493              22\n",
      "780     155.58   457.430              22\n",
      "783     156.49   457.514              22\n",
      "787     156.80   457.880              22\n",
      "791     157.17   457.274              22\n",
      "799     159.16   455.716              22\n",
      "800     159.32   458.082              22\n",
      "804     159.57   458.024              22\n",
      "814     160.56   454.526              22\n",
      "815     160.56   454.526              22\n",
      "816     160.67   455.711              22\n",
      "817     161.17   457.368              22\n",
      "821     161.80   454.267              22\n",
      "826     162.81   455.678              22\n",
      "833     163.59   457.529              22\n",
      "836     163.98   457.747              22\n",
      "837     163.99   456.346              22\n",
      "840     164.79   457.885              22\n",
      "842     164.90   456.623              22\n",
      "846     165.95   455.240              22\n",
      "847     165.95   455.240              22\n",
      "849     166.27   457.094              22\n",
      "852     166.35   455.892              22\n",
      "856     167.12   456.288              22\n",
      "857     167.12   456.288              22\n",
      "858     167.57   454.594              22\n",
      "887     170.88   454.310              22\n",
      "1153    235.59   442.557              22\n",
      "1154    235.59   442.557              22\n",
      "1157    236.02   442.562              22\n",
      "1158    236.14   442.211              22\n",
      "1587    285.86   437.009              22\n",
      "1588    285.86   437.010              22)\n",
      "(25,      distance  altitude  classification\n",
      "855    166.94   453.844              25\n",
      "990    194.07   450.132              25\n",
      "994    195.45   448.579              25\n",
      "995    195.45   448.579              25)\n",
      "(26,       distance  altitude  classification\n",
      "1134    228.97   447.423              26)\n",
      "(31,       distance  altitude  classification\n",
      "0         0.25   458.153              31\n",
      "1         0.25   458.154              31\n",
      "8         3.58   458.193              31\n",
      "9         3.58   458.193              31\n",
      "11        3.96   458.108              31\n",
      "...        ...       ...             ...\n",
      "2135    384.33   429.187              31\n",
      "2136    384.33   429.187              31\n",
      "2142    384.77   429.147              31\n",
      "2153    386.51   429.300              31\n",
      "2154    386.83   429.137              31\n",
      "\n",
      "[363 rows x 3 columns])\n",
      "(41,       distance  altitude  classification\n",
      "2063    375.12     429.3              41\n",
      "2076    376.75     429.3              41\n",
      "2087    378.63     429.3              41\n",
      "2156    388.11     429.3              41\n",
      "2157    388.11     429.3              41\n",
      "2158    388.45     429.3              41\n",
      "2159    389.05     429.3              41\n",
      "2166    391.87     429.3              41\n",
      "2167    391.87     429.3              41\n",
      "2169    392.21     429.3              41\n",
      "2170    392.29     429.3              41\n",
      "2172    393.83     429.3              41\n",
      "2174    395.71     429.3              41\n",
      "2175    395.71     429.3              41\n",
      "2178    397.93     429.3              41\n",
      "2192    401.10     429.3              41\n",
      "2193    401.10     429.3              41\n",
      "2194    401.78     429.3              41\n",
      "2199    402.64     429.3              41\n",
      "2201    403.58     429.3              41\n",
      "2202    403.66     429.3              41\n",
      "2207    404.94     429.3              41\n",
      "2210    405.80     429.3              41\n",
      "2212    406.48     429.3              41\n",
      "2223    407.76     429.3              41\n",
      "2228    409.64     429.3              41\n",
      "2231    410.58     429.3              41\n",
      "2233    412.12     429.3              41\n",
      "2261    420.14     429.3              41)\n"
     ]
    }
   ],
   "source": [
    "gb = df.groupby('classification')\n",
    "print(type(pd.unique(df['classification'])[0]))\n",
    "\n",
    "for g in gb:\n",
    "    print(g)"
   ]
  },
  {
   "cell_type": "markdown",
   "id": "1fb9874c",
   "metadata": {},
   "source": [
    "### Liste les classifications à ignorer"
   ]
  },
  {
   "cell_type": "code",
   "execution_count": 103,
   "id": "d364f4aa",
   "metadata": {},
   "outputs": [
    {
     "name": "stdout",
     "output_type": "stream",
     "text": [
      "[4, 5, 6]\n",
      "<class 'list'>\n"
     ]
    }
   ],
   "source": [
    "print(LIDAR_CLASSIFICATION_IGNORE)\n",
    "print(type(LIDAR_CLASSIFICATION_IGNORE))"
   ]
  },
  {
   "cell_type": "markdown",
   "id": "e465bdd0",
   "metadata": {},
   "source": [
    "### Filtre le dataframe sans les classifaction à ignorer"
   ]
  },
  {
   "cell_type": "code",
   "execution_count": 104,
   "id": "8f34a523",
   "metadata": {},
   "outputs": [
    {
     "name": "stdout",
     "output_type": "stream",
     "text": [
      "      distance  altitude  classification\n",
      "0         0.25   458.153              31\n",
      "1         0.25   458.154              31\n",
      "2         0.26   458.041               2\n",
      "3         0.43   458.123               2\n",
      "4         1.92   458.078               2\n",
      "...        ...       ...             ...\n",
      "2248    415.45   429.283               3\n",
      "2251    415.55   429.167              18\n",
      "2252    415.55   429.168              18\n",
      "2255    416.92   429.173               9\n",
      "2261    420.14   429.300              41\n",
      "\n",
      "[1113 rows x 3 columns]\n"
     ]
    }
   ],
   "source": [
    "df_filtred = df[~df.classification.isin(LIDAR_CLASSIFICATION_IGNORE)]\n",
    "print(df_filtred)\n"
   ]
  }
 ],
 "metadata": {
  "kernelspec": {
   "display_name": "flask",
   "language": "python",
   "name": "python3"
  },
  "language_info": {
   "codemirror_mode": {
    "name": "ipython",
    "version": 3
   },
   "file_extension": ".py",
   "mimetype": "text/x-python",
   "name": "python",
   "nbconvert_exporter": "python",
   "pygments_lexer": "ipython3",
   "version": "3.9.6"
  }
 },
 "nbformat": 4,
 "nbformat_minor": 5
}
